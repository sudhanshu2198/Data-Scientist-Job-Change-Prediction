{
 "cells": [
  {
   "cell_type": "markdown",
   "metadata": {},
   "source": [
    "**Final Model Pipeline**"
   ]
  },
  {
   "cell_type": "code",
   "execution_count": null,
   "metadata": {},
   "outputs": [],
   "source": [
    "import numpy as np \n",
    "import pandas as pd \n",
    "import matplotlib.pyplot as plt\n",
    "import seaborn as sns\n",
    "%matplotlib inline"
   ]
  },
  {
   "cell_type": "code",
   "execution_count": null,
   "metadata": {},
   "outputs": [],
   "source": [
    "from sklearn.impute import SimpleImputer\n",
    "from sklearn.preprocessing import OneHotEncoder\n",
    "from sklearn.preprocessing import PowerTransformer\n",
    "from sklearn.compose import ColumnTransformer\n",
    "from sklearn.ensemble import RandomForestClassifier\n",
    "from sklearn.feature_selection import SelectKBest\n",
    "from sklearn.feature_selection import chi2\n",
    "from sklearn.model_selection import RepeatedStratifiedKFold\n",
    "from imblearn.under_sampling import EditedNearestNeighbours\n",
    "from imblearn.combine import SMOTEENN\n",
    "from imblearn.pipeline import Pipeline"
   ]
  },
  {
   "cell_type": "code",
   "execution_count": null,
   "metadata": {},
   "outputs": [],
   "source": [
    "train=pd.read_csv('train.csv')\n",
    "test=pd.read_csv('test.csv')"
   ]
  },
  {
   "cell_type": "code",
   "execution_count": null,
   "metadata": {
    "execution": {
     "iopub.execute_input": "2022-10-23T13:50:21.475358Z",
     "iopub.status.busy": "2022-10-23T13:50:21.474899Z",
     "iopub.status.idle": "2022-10-23T13:50:21.482517Z",
     "shell.execute_reply": "2022-10-23T13:50:21.481759Z",
     "shell.execute_reply.started": "2022-10-23T13:50:21.475322Z"
    }
   },
   "outputs": [],
   "source": [
    "inter=Pipeline([('i',SimpleImputer(strategy='most_frequent')),\n",
    "                ('e',OneHotEncoder()),\n",
    "                ('fs',SelectKBest(score_func=chi2,k=23))])\n",
    "              \n",
    "transformers=[('t',PowerTransformer(),num),\n",
    "              ('inter',inter,cat)]\n",
    "    \n",
    "steps=[('pre',ColumnTransformer(transformers=transformers)),\n",
    "       ('sampling',SMOTEENN(enn=EditedNearestNeighbours(sampling_strategy='majority'))),\n",
    "       ('model',RandomForestClassifier(**params))]"
   ]
  },
  {
   "cell_type": "code",
   "execution_count": null,
   "metadata": {
    "execution": {
     "iopub.execute_input": "2022-10-23T13:50:24.049986Z",
     "iopub.status.busy": "2022-10-23T13:50:24.049230Z",
     "iopub.status.idle": "2022-10-23T13:50:24.060074Z",
     "shell.execute_reply": "2022-10-23T13:50:24.058670Z",
     "shell.execute_reply.started": "2022-10-23T13:50:24.049948Z"
    }
   },
   "outputs": [],
   "source": [
    "X_train=train.drop(columns=['enrollee_id','city','target'],axis=1)\n",
    "y_train=train['target']\n",
    "\n",
    "X_test=test.drop(columns=['enrollee_id','city'],axis=1)"
   ]
  },
  {
   "cell_type": "code",
   "execution_count": null,
   "metadata": {
    "execution": {
     "iopub.execute_input": "2022-10-23T13:50:25.454809Z",
     "iopub.status.busy": "2022-10-23T13:50:25.454361Z",
     "iopub.status.idle": "2022-10-23T13:51:26.472809Z",
     "shell.execute_reply": "2022-10-23T13:51:26.471678Z",
     "shell.execute_reply.started": "2022-10-23T13:50:25.454769Z"
    }
   },
   "outputs": [],
   "source": [
    "model=Pipeline(steps=steps)\n",
    "model.fit(X_train,y_train)\n",
    "\n",
    "predictions=model.predict(X_test)"
   ]
  },
  {
   "cell_type": "code",
   "execution_count": null,
   "metadata": {
    "execution": {
     "iopub.execute_input": "2022-10-23T13:57:22.310425Z",
     "iopub.status.busy": "2022-10-23T13:57:22.309585Z",
     "iopub.status.idle": "2022-10-23T13:57:22.322305Z",
     "shell.execute_reply": "2022-10-23T13:57:22.321337Z",
     "shell.execute_reply.started": "2022-10-23T13:57:22.310378Z"
    }
   },
   "outputs": [],
   "source": [
    "submission = pd.DataFrame({'enrollee_id':test['enrollee_id'],'target':predictions})\n",
    "submission.head(10)"
   ]
  },
  {
   "cell_type": "code",
   "execution_count": null,
   "metadata": {
    "execution": {
     "iopub.execute_input": "2022-10-23T13:57:52.934333Z",
     "iopub.status.busy": "2022-10-23T13:57:52.933951Z",
     "iopub.status.idle": "2022-10-23T13:57:52.944815Z",
     "shell.execute_reply": "2022-10-23T13:57:52.943838Z",
     "shell.execute_reply.started": "2022-10-23T13:57:52.934303Z"
    }
   },
   "outputs": [],
   "source": [
    "submission.to_csv('submissions.csv',index=False)"
   ]
  },
  {
   "cell_type": "code",
   "execution_count": null,
   "metadata": {},
   "outputs": [],
   "source": []
  }
 ],
 "metadata": {
  "kernelspec": {
   "display_name": "Python 3 (ipykernel)",
   "language": "python",
   "name": "python3"
  },
  "language_info": {
   "codemirror_mode": {
    "name": "ipython",
    "version": 3
   },
   "file_extension": ".py",
   "mimetype": "text/x-python",
   "name": "python",
   "nbconvert_exporter": "python",
   "pygments_lexer": "ipython3",
   "version": "3.9.7"
  }
 },
 "nbformat": 4,
 "nbformat_minor": 4
}
